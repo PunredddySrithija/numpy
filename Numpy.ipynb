{
 "cells": [
  {
   "cell_type": "code",
   "execution_count": 1,
   "id": "fa99f8eb-c7d3-46e4-a6ee-5fea9f303576",
   "metadata": {},
   "outputs": [
    {
     "name": "stdout",
     "output_type": "stream",
     "text": [
      "Requirement already satisfied: numpy in c:\\users\\punre\\anaconda3\\lib\\site-packages (1.26.4)\n"
     ]
    }
   ],
   "source": [
    "!pip install numpy"
   ]
  },
  {
   "cell_type": "code",
   "execution_count": 1,
   "id": "884cda8c-af26-491d-9f32-d8bfd50b49be",
   "metadata": {},
   "outputs": [],
   "source": [
    "#importing numpy\n",
    "import numpy as np"
   ]
  },
  {
   "cell_type": "code",
   "execution_count": 5,
   "id": "6efd1371-dfd7-41cc-a3c7-7abae12b70f8",
   "metadata": {},
   "outputs": [
    {
     "name": "stdout",
     "output_type": "stream",
     "text": [
      "[1 2 3]\n",
      "[[8.2 2.  3. ]\n",
      " [7.  8.  9. ]]\n",
      "[[[8.2 2.  3. ]\n",
      "  [7.  8.  9. ]]\n",
      "\n",
      " [[3.  2.  1. ]\n",
      "  [7.  8.  9. ]]]\n"
     ]
    }
   ],
   "source": [
    "#creating numpy\n",
    "a = np.array([1,2,3])  #1D\n",
    "b = np.array([(8.2,2,3),(7,8,9)],dtype = float)\n",
    "c = np.array([[(8.2,2,3),(7,8,9)],[(3,2,1),(7,8,9)]],dtype = float)\n",
    "print(a)\n",
    "print(b)\n",
    "print(c)\n"
   ]
  },
  {
   "cell_type": "code",
   "execution_count": 7,
   "id": "a80b4d8b-3877-465a-af0e-d1a45b29d017",
   "metadata": {},
   "outputs": [
    {
     "data": {
      "text/plain": [
       "array([0., 0., 0., 0., 0., 0.])"
      ]
     },
     "execution_count": 7,
     "metadata": {},
     "output_type": "execute_result"
    }
   ],
   "source": [
    "#intial placeholders \n",
    "#create an array of zeros\n",
    "np.zeros([6])   #creating 1D array\n"
   ]
  },
  {
   "cell_type": "code",
   "execution_count": 11,
   "id": "65e9aae4-f0e4-4888-b3cb-fc3500cec2f2",
   "metadata": {},
   "outputs": [
    {
     "data": {
      "text/plain": [
       "array([[0., 0., 0., 0.],\n",
       "       [0., 0., 0., 0.]])"
      ]
     },
     "execution_count": 11,
     "metadata": {},
     "output_type": "execute_result"
    }
   ],
   "source": [
    "np.zeros([2,4])  #creatig 2D array "
   ]
  },
  {
   "cell_type": "code",
   "execution_count": 22,
   "id": "d7bdfa28-0e3b-4548-822f-e59aa6619d1d",
   "metadata": {},
   "outputs": [
    {
     "data": {
      "text/plain": [
       "array([[[0., 0., 0., 0.],\n",
       "        [0., 0., 0., 0.],\n",
       "        [0., 0., 0., 0.]],\n",
       "\n",
       "       [[0., 0., 0., 0.],\n",
       "        [0., 0., 0., 0.],\n",
       "        [0., 0., 0., 0.]]])"
      ]
     },
     "execution_count": 22,
     "metadata": {},
     "output_type": "execute_result"
    }
   ],
   "source": [
    "np.zeros([2,3,4,])  #shape, rows,columns"
   ]
  },
  {
   "cell_type": "code",
   "execution_count": 33,
   "id": "2f2e9486-58a8-45d7-8a9f-f956d3cf4b97",
   "metadata": {},
   "outputs": [
    {
     "name": "stdout",
     "output_type": "stream",
     "text": [
      "[ 1 10 19 28 37 46 55 64 73]\n"
     ]
    }
   ],
   "source": [
    "#create an array of evenly spaced value \n",
    "d = np.arange(1,80,9) #step n-1(9-1=8)\n",
    "print(d)"
   ]
  },
  {
   "cell_type": "code",
   "execution_count": 37,
   "id": "e9567ff0-0dcd-49a5-ab95-d7a8c34f1dbc",
   "metadata": {},
   "outputs": [
    {
     "data": {
      "text/plain": [
       "array([ 5.        ,  5.35714286,  5.71428571,  6.07142857,  6.42857143,\n",
       "        6.78571429,  7.14285714,  7.5       ,  7.85714286,  8.21428571,\n",
       "        8.57142857,  8.92857143,  9.28571429,  9.64285714, 10.        ])"
      ]
     },
     "execution_count": 37,
     "metadata": {},
     "output_type": "execute_result"
    }
   ],
   "source": [
    "#create a array of spaced value (number of samples)\n",
    "np.linspace(5,10,15)\n"
   ]
  },
  {
   "cell_type": "code",
   "execution_count": 39,
   "id": "e207ee4f-168e-4fa8-a73f-29d55abad312",
   "metadata": {},
   "outputs": [
    {
     "name": "stdout",
     "output_type": "stream",
     "text": [
      "[30 30 30 30 30 30 30 30 30 30 30 30 30 30 30]\n",
      "1\n"
     ]
    }
   ],
   "source": [
    "#create a constant array \n",
    "#create 1D array\n",
    "e = np.full([15],30)  #columns\n",
    "print(e)\n",
    "print(e.ndim)    # to find no of dimmension"
   ]
  },
  {
   "cell_type": "code",
   "execution_count": 41,
   "id": "c43bdc2a-d334-4b69-b8ed-d02a59b53047",
   "metadata": {},
   "outputs": [
    {
     "name": "stdout",
     "output_type": "stream",
     "text": [
      "[[[12 12]\n",
      "  [12 12]\n",
      "  [12 12]\n",
      "  [12 12]]\n",
      "\n",
      " [[12 12]\n",
      "  [12 12]\n",
      "  [12 12]\n",
      "  [12 12]]\n",
      "\n",
      " [[12 12]\n",
      "  [12 12]\n",
      "  [12 12]\n",
      "  [12 12]]\n",
      "\n",
      " [[12 12]\n",
      "  [12 12]\n",
      "  [12 12]\n",
      "  [12 12]]\n",
      "\n",
      " [[12 12]\n",
      "  [12 12]\n",
      "  [12 12]\n",
      "  [12 12]]\n",
      "\n",
      " [[12 12]\n",
      "  [12 12]\n",
      "  [12 12]\n",
      "  [12 12]]]\n",
      "3\n"
     ]
    }
   ],
   "source": [
    "#create 2D array \n",
    "e = np.full([6,4,2],12)\n",
    "print(e)\n",
    "print(e.ndim)\n"
   ]
  },
  {
   "cell_type": "code",
   "execution_count": 43,
   "id": "a8232099-2802-4495-b64c-421adcfcde99",
   "metadata": {},
   "outputs": [
    {
     "name": "stdout",
     "output_type": "stream",
     "text": [
      "[[1. 0. 0. 0.]\n",
      " [0. 1. 0. 0.]\n",
      " [0. 0. 1. 0.]\n",
      " [0. 0. 0. 1.]]\n"
     ]
    }
   ],
   "source": [
    "# create a 2*2 identity matrix \n",
    "f = np.eye(4)\n",
    "print(f)"
   ]
  },
  {
   "cell_type": "code",
   "execution_count": 67,
   "id": "8dbb93e1-592a-49c8-ac7a-53346ab14ab8",
   "metadata": {},
   "outputs": [
    {
     "data": {
      "text/plain": [
       "array([[0.05899633, 0.54316668, 0.73030227, 0.16923253],\n",
       "       [0.28058639, 0.11581543, 0.83193505, 0.18021308]])"
      ]
     },
     "execution_count": 67,
     "metadata": {},
     "output_type": "execute_result"
    }
   ],
   "source": [
    "# create an array with random values \n",
    "np.random.random((2,4)) #rows,columns"
   ]
  },
  {
   "cell_type": "code",
   "execution_count": 88,
   "id": "f8757e74-340b-4aed-9f68-3e21e74f0bf6",
   "metadata": {},
   "outputs": [
    {
     "name": "stdout",
     "output_type": "stream",
     "text": [
      "(4, 4)\n"
     ]
    }
   ],
   "source": [
    "# to find shape of an array \n",
    "arr = np.array([[2,4,6,8],\n",
    "                [4,6,8,10],\n",
    "                [6,8,10,12],\n",
    "                [8,10,6,12]])\n",
    "print(arr.shape)"
   ]
  },
  {
   "cell_type": "code",
   "execution_count": 92,
   "id": "af39f7cd-0e68-4d96-b3c3-d707e2a1d867",
   "metadata": {},
   "outputs": [
    {
     "name": "stdout",
     "output_type": "stream",
     "text": [
      "9\n"
     ]
    }
   ],
   "source": [
    "# to find number of elemwnts in array \n",
    "arr = np.array([[1,3,5],\n",
    "                [3,5,7],\n",
    "                [5,7,9]])\n",
    "print(arr.size)"
   ]
  },
  {
   "cell_type": "code",
   "execution_count": 97,
   "id": "1b514d21-e089-4f56-acf7-06b6b91f50ce",
   "metadata": {},
   "outputs": [
    {
     "data": {
      "text/plain": [
       "5"
      ]
     },
     "execution_count": 97,
     "metadata": {},
     "output_type": "execute_result"
    }
   ],
   "source": [
    "# to find len of array \n",
    "arr = np.array([[0,1,2,3],\n",
    "                [1,2,3,4],\n",
    "                [2,3,4,5],\n",
    "                [3,4,5,6],\n",
    "                [4,5,6,7]])\n",
    "len(arr)"
   ]
  },
  {
   "cell_type": "code",
   "execution_count": null,
   "id": "afaa4401-7bb7-4461-88a4-bb1df3d8c662",
   "metadata": {},
   "outputs": [],
   "source": [
    "#Access Array Elements:-"
   ]
  },
  {
   "cell_type": "code",
   "execution_count": 118,
   "id": "facc161a-09f9-48ab-a785-67ca2ac82079",
   "metadata": {},
   "outputs": [],
   "source": [
    "#you can access an array element by refering to its index number\n",
    "#the index in numpy arrays start with 0\n",
    "#meaning that the first element has index 0\n"
   ]
  },
  {
   "cell_type": "code",
   "execution_count": 176,
   "id": "5cb6d903-9890-4c1c-b5ae-ac4237c76ff6",
   "metadata": {},
   "outputs": [
    {
     "name": "stdout",
     "output_type": "stream",
     "text": [
      "4\n"
     ]
    }
   ],
   "source": [
    "arr = np.array([1,2,3,4])\n",
    "print(arr[3])"
   ]
  },
  {
   "cell_type": "code",
   "execution_count": 178,
   "id": "b63c9551-972b-45ea-8064-ac5435b72269",
   "metadata": {},
   "outputs": [
    {
     "name": "stdout",
     "output_type": "stream",
     "text": [
      "2\n"
     ]
    }
   ],
   "source": [
    "import numpy as np\n",
    "#adding two index position\n",
    "arr = np.array([1,2,3,4,5])\n",
    "print(arr[2] + arr[0] - arr[1])"
   ]
  },
  {
   "cell_type": "code",
   "execution_count": 255,
   "id": "1e070955-a88b-4958-ae89-39dffc4ab874",
   "metadata": {},
   "outputs": [
    {
     "name": "stdout",
     "output_type": "stream",
     "text": [
      "2nd element on 1st row: 1\n"
     ]
    }
   ],
   "source": [
    "#access 2D arrays\n",
    "#access the element can the first row,second column\n",
    "arr = np.array([[1,2,3,4,5],\n",
    "               [6,7,8,9,10],\n",
    "               [6,7,8,9,10],\n",
    "               [6,7,8,9,1]])\n",
    "print('2nd element on 1st row:',arr[3,4])"
   ]
  },
  {
   "cell_type": "code",
   "execution_count": 262,
   "id": "2584a66c-255b-4056-bc21-96051759a230",
   "metadata": {},
   "outputs": [
    {
     "name": "stdout",
     "output_type": "stream",
     "text": [
      "[1, 0, 1]\n"
     ]
    }
   ],
   "source": [
    "#access 3D arrays\n",
    "arr = np.array([[[1,2,3],[4,5,6]],\n",
    "                [[1,22,3],[24,5,6]],\n",
    "                [[1,32,32],[4,2,6]],\n",
    "                [[7,8,9],[10,11,12]]])\n",
    "#access by index\n",
    "print([1,0,1]) #([2D,1D,element])"
   ]
  },
  {
   "cell_type": "code",
   "execution_count": 269,
   "id": "c63e4375-1b92-41d5-b88d-988a9c38a222",
   "metadata": {},
   "outputs": [],
   "source": [
    "# Arithmetic operation on 2D Arrays :-"
   ]
  },
  {
   "cell_type": "code",
   "execution_count": 279,
   "id": "dd5b0692-448a-44e0-8a6f-b53bcaae33e4",
   "metadata": {},
   "outputs": [
    {
     "name": "stdout",
     "output_type": "stream",
     "text": [
      "[[6 8 9]\n",
      " [5 7 3]]\n",
      "[[2 1 6]\n",
      " [3 5 9]]\n"
     ]
    }
   ],
   "source": [
    "import numpy as np \n",
    "a = np.array([[6,8,9],[5,7,3]])\n",
    "b = np.array([[2,1,6],[3,5,9]])\n",
    "print(a)\n",
    "print(b)"
   ]
  },
  {
   "cell_type": "code",
   "execution_count": 281,
   "id": "ae87da31-5537-4255-842c-e21f020b8c87",
   "metadata": {},
   "outputs": [
    {
     "name": "stdout",
     "output_type": "stream",
     "text": [
      "[[ 8  9 15]\n",
      " [ 8 12 12]]\n"
     ]
    }
   ],
   "source": [
    "#addition\n",
    "a = np.array([[6,8,9],[5,7,3]])\n",
    "b = np.array([[2,1,6],[3,5,9]])\n",
    "c = a+b\n",
    "print(c)"
   ]
  },
  {
   "cell_type": "code",
   "execution_count": 284,
   "id": "8801643c-7d6a-4b91-899c-b7b8fb568726",
   "metadata": {},
   "outputs": [
    {
     "name": "stdout",
     "output_type": "stream",
     "text": [
      "[[ 4  7  3]\n",
      " [ 2  2 -6]]\n"
     ]
    }
   ],
   "source": [
    "#subraction\n",
    "a = np.array([[6,8,9],[5,7,3]])\n",
    "b = np.array([[2,1,6],[3,5,9]])\n",
    "c = a-b\n",
    "print(c)"
   ]
  },
  {
   "cell_type": "code",
   "execution_count": 286,
   "id": "46a6b489-6bf2-4c45-b90d-e45326c060ba",
   "metadata": {},
   "outputs": [
    {
     "name": "stdout",
     "output_type": "stream",
     "text": [
      "[[12  8 54]\n",
      " [15 35 27]]\n"
     ]
    }
   ],
   "source": [
    "#multiplaction\n",
    "a = np.array([[6,8,9],[5,7,3]])\n",
    "b = np.array([[2,1,6],[3,5,9]])\n",
    "c = a*b\n",
    "print(c)"
   ]
  },
  {
   "cell_type": "code",
   "execution_count": 289,
   "id": "4c935007-945f-416e-ba03-8f4035391431",
   "metadata": {},
   "outputs": [
    {
     "name": "stdout",
     "output_type": "stream",
     "text": [
      "[[3.         8.         1.5       ]\n",
      " [1.66666667 1.4        0.33333333]]\n"
     ]
    }
   ],
   "source": [
    "#division\n",
    "a = np.array([[6,8,9],[5,7,3]])\n",
    "b = np.array([[2,1,6],[3,5,9]])\n",
    "c = a/b\n",
    "print(c)"
   ]
  },
  {
   "cell_type": "code",
   "execution_count": 291,
   "id": "c8398751-43f2-4536-aaaf-9df4262317cf",
   "metadata": {},
   "outputs": [
    {
     "name": "stdout",
     "output_type": "stream",
     "text": [
      "[[0 0 3]\n",
      " [2 2 3]]\n"
     ]
    }
   ],
   "source": [
    "#modulus\n",
    "a = np.array([[6,8,9],[5,7,3]])\n",
    "b = np.array([[2,1,6],[3,5,9]])\n",
    "c = a%b\n",
    "print(c)"
   ]
  },
  {
   "cell_type": "code",
   "execution_count": 293,
   "id": "736d623c-d380-4762-9b34-1f0fe11f8751",
   "metadata": {},
   "outputs": [
    {
     "name": "stdout",
     "output_type": "stream",
     "text": [
      "[[3 8 1]\n",
      " [1 1 0]]\n"
     ]
    }
   ],
   "source": [
    "#float division \n",
    "a = np.array([[6,8,9],[5,7,3]])\n",
    "b = np.array([[2,1,6],[3,5,9]])\n",
    "c = a//b\n",
    "print(c)"
   ]
  },
  {
   "cell_type": "code",
   "execution_count": 324,
   "id": "434b56b4-ccc6-46ee-aaf2-067e3edee70d",
   "metadata": {},
   "outputs": [
    {
     "name": "stdout",
     "output_type": "stream",
     "text": [
      "[[    36      8 531441]\n",
      " [   125  16807  19683]]\n"
     ]
    }
   ],
   "source": [
    "#exponentiation\n",
    "a = np.array([[6,8,9],[5,7,3]])\n",
    "b = np.array([[2,1,6],[3,5,9]])\n",
    "c = a**b\n",
    "print(c)"
   ]
  },
  {
   "cell_type": "code",
   "execution_count": null,
   "id": "c86893d3-13bb-496f-8493-5c13929a0f10",
   "metadata": {},
   "outputs": [],
   "source": [
    "#Arithmetic operations 3D arrays:-"
   ]
  },
  {
   "cell_type": "code",
   "execution_count": 305,
   "id": "202576e5-9974-46f8-b87c-1695e3d143b6",
   "metadata": {},
   "outputs": [
    {
     "name": "stdout",
     "output_type": "stream",
     "text": [
      "[[[ 1  2  3]\n",
      "  [ 4  5  6]\n",
      "  [ 7  8  9]\n",
      "  [10 11 12]]]\n",
      "[[[12 11 10]\n",
      "  [ 9  8  7]\n",
      "  [ 6  5  4]\n",
      "  [ 3  2  1]]]\n"
     ]
    }
   ],
   "source": [
    "import numpy as np \n",
    "#creating two 3D arrays\n",
    "a = np.array([[[1,2,3],[4,5,6],[7,8,9],[10,11,12]]])\n",
    "b = np.array([[[12,11,10],[9,8,7],[6,5,4],[3,2,1]]])\n",
    "print(a)\n",
    "print(b)"
   ]
  },
  {
   "cell_type": "code",
   "execution_count": 308,
   "id": "ad5face7-0dd5-42bd-a6bf-ce81dfc7e665",
   "metadata": {},
   "outputs": [
    {
     "name": "stdout",
     "output_type": "stream",
     "text": [
      "[[[13 13 13]\n",
      "  [13 13 13]\n",
      "  [13 13 13]\n",
      "  [13 13 13]]]\n"
     ]
    }
   ],
   "source": [
    "#addition \n",
    "a = np.array([[[1,2,3],[4,5,6],[7,8,9],[10,11,12]]])\n",
    "b = np.array([[[12,11,10],[9,8,7],[6,5,4],[3,2,1]]])\n",
    "c = a+b\n",
    "print(c)"
   ]
  },
  {
   "cell_type": "code",
   "execution_count": 310,
   "id": "925c7279-563a-4ef3-9d79-1d08775107ec",
   "metadata": {},
   "outputs": [
    {
     "name": "stdout",
     "output_type": "stream",
     "text": [
      "[[[-11  -9  -7]\n",
      "  [ -5  -3  -1]\n",
      "  [  1   3   5]\n",
      "  [  7   9  11]]]\n"
     ]
    }
   ],
   "source": [
    "#subraction\n",
    "a = np.array([[[1,2,3],[4,5,6],[7,8,9],[10,11,12]]])\n",
    "b = np.array([[[12,11,10],[9,8,7],[6,5,4],[3,2,1]]])\n",
    "c = a-b\n",
    "print(c)"
   ]
  },
  {
   "cell_type": "code",
   "execution_count": 313,
   "id": "551ddedc-f7e5-4811-8a77-602f1a5b2923",
   "metadata": {},
   "outputs": [
    {
     "name": "stdout",
     "output_type": "stream",
     "text": [
      "[[[12 22 30]\n",
      "  [36 40 42]\n",
      "  [42 40 36]\n",
      "  [30 22 12]]]\n"
     ]
    }
   ],
   "source": [
    "#multiplication\n",
    "a = np.array([[[1,2,3],[4,5,6],[7,8,9],[10,11,12]]])\n",
    "b = np.array([[[12,11,10],[9,8,7],[6,5,4],[3,2,1]]])\n",
    "c = a*b\n",
    "print(c)"
   ]
  },
  {
   "cell_type": "code",
   "execution_count": 316,
   "id": "befdf796-6238-4216-8754-fa026cfaf292",
   "metadata": {},
   "outputs": [
    {
     "name": "stdout",
     "output_type": "stream",
     "text": [
      "[[[ 0.08333333  0.18181818  0.3       ]\n",
      "  [ 0.44444444  0.625       0.85714286]\n",
      "  [ 1.16666667  1.6         2.25      ]\n",
      "  [ 3.33333333  5.5        12.        ]]]\n"
     ]
    }
   ],
   "source": [
    "#division\n",
    "a = np.array([[[1,2,3],[4,5,6],[7,8,9],[10,11,12]]])\n",
    "b = np.array([[[12,11,10],[9,8,7],[6,5,4],[3,2,1]]])\n",
    "c = a/b\n",
    "print(c)\n"
   ]
  },
  {
   "cell_type": "code",
   "execution_count": 318,
   "id": "81ba28e9-c2d7-490b-9a9b-fada05ed2bef",
   "metadata": {},
   "outputs": [
    {
     "name": "stdout",
     "output_type": "stream",
     "text": [
      "[[[1 2 3]\n",
      "  [4 5 6]\n",
      "  [1 3 1]\n",
      "  [1 1 0]]]\n"
     ]
    }
   ],
   "source": [
    "#modulus\n",
    "a = np.array([[[1,2,3],[4,5,6],[7,8,9],[10,11,12]]])\n",
    "b = np.array([[[12,11,10],[9,8,7],[6,5,4],[3,2,1]]])\n",
    "c = a%b\n",
    "print(c)\n"
   ]
  },
  {
   "cell_type": "code",
   "execution_count": 320,
   "id": "4877310c-c2e6-4d45-8dba-41b6ed95dfb6",
   "metadata": {},
   "outputs": [
    {
     "name": "stdout",
     "output_type": "stream",
     "text": [
      "[[[ 0  0  0]\n",
      "  [ 0  0  0]\n",
      "  [ 1  1  2]\n",
      "  [ 3  5 12]]]\n"
     ]
    }
   ],
   "source": [
    "#float division\n",
    "a = np.array([[[1,2,3],[4,5,6],[7,8,9],[10,11,12]]])\n",
    "b = np.array([[[12,11,10],[9,8,7],[6,5,4],[3,2,1]]])\n",
    "c = a//b\n",
    "print(c)\n"
   ]
  },
  {
   "cell_type": "code",
   "execution_count": 322,
   "id": "2c71f3da-cbf3-4ebb-b268-a0ea8b00cbe0",
   "metadata": {},
   "outputs": [
    {
     "name": "stdout",
     "output_type": "stream",
     "text": [
      "[[[     1   2048  59049]\n",
      "  [262144 390625 279936]\n",
      "  [117649  32768   6561]\n",
      "  [  1000    121     12]]]\n"
     ]
    }
   ],
   "source": [
    "#exponentiation\n",
    "a = np.array([[[1,2,3],[4,5,6],[7,8,9],[10,11,12]]])\n",
    "b = np.array([[[12,11,10],[9,8,7],[6,5,4],[3,2,1]]])\n",
    "c = a**b\n",
    "print(c)"
   ]
  },
  {
   "cell_type": "code",
   "execution_count": null,
   "id": "9bdb6148-9fc2-48de-a898-9acc4cf9cf30",
   "metadata": {},
   "outputs": [],
   "source": []
  }
 ],
 "metadata": {
  "kernelspec": {
   "display_name": "Python 3 (ipykernel)",
   "language": "python",
   "name": "python3"
  },
  "language_info": {
   "codemirror_mode": {
    "name": "ipython",
    "version": 3
   },
   "file_extension": ".py",
   "mimetype": "text/x-python",
   "name": "python",
   "nbconvert_exporter": "python",
   "pygments_lexer": "ipython3",
   "version": "3.12.4"
  }
 },
 "nbformat": 4,
 "nbformat_minor": 5
}
