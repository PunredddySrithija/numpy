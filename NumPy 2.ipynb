{
 "cells": [
  {
   "cell_type": "code",
   "execution_count": 2,
   "id": "1d4e2da4-2851-44d1-856f-c6d1c1d3aff0",
   "metadata": {},
   "outputs": [
    {
     "name": "stdout",
     "output_type": "stream",
     "text": [
      "Requirement already satisfied: numpy in c:\\users\\tillu\\anaconda3\\lib\\site-packages (1.26.4)\n"
     ]
    }
   ],
   "source": [
    "#NumPy\n",
    "\n",
    "!pip install numpy"
   ]
  },
  {
   "cell_type": "code",
   "execution_count": null,
   "id": "2e6ba017-66ed-4f45-ab83-50245e8315e4",
   "metadata": {},
   "outputs": [],
   "source": [
    "#Data Types\n",
    "\n",
    "Datatypes in NumPy\n",
    "NumPy has some extra data types and refer to data types with one character, like i for integers, u for unsigned integers etc.\n",
    "Below is a list of all data types in NumPy and the characters used to represent them.\n",
    "\n",
    "i - integer\n",
    "b - boolean\n",
    "u - unsigned(just like integers(whole numbers)but have the property that they dont have a + or - sign associated with them)\n",
    "f - float\n",
    "c - complex\n",
    "M - datetime\n",
    "O - Object\n",
    "S - String"
   ]
  },
  {
   "cell_type": "code",
   "execution_count": 6,
   "id": "bc0b9824-e4cd-4736-b2d7-87770e368422",
   "metadata": {},
   "outputs": [
    {
     "name": "stdout",
     "output_type": "stream",
     "text": [
      "int32\n"
     ]
    }
   ],
   "source": [
    "#checking the datatype\n",
    "import numpy as np\n",
    "arr = np.array([5, 6, 7, 8])\n",
    "print(arr.dtype)"
   ]
  },
  {
   "cell_type": "code",
   "execution_count": 8,
   "id": "9125a18d-48bb-4a55-8c3c-946a377c0278",
   "metadata": {},
   "outputs": [
    {
     "name": "stdout",
     "output_type": "stream",
     "text": [
      "[b'5' b'6' b'7' b'8']\n",
      "|S1\n"
     ]
    }
   ],
   "source": [
    "#string\n",
    "arr = np.array([5,6,7,8], dtype = 'S')\n",
    "print(arr)\n",
    "print(arr.dtype)"
   ]
  },
  {
   "cell_type": "code",
   "execution_count": 10,
   "id": "e4bcfe88-13fb-40c5-822e-11153d86d60b",
   "metadata": {},
   "outputs": [
    {
     "name": "stdout",
     "output_type": "stream",
     "text": [
      "[5 4 7 7]\n",
      "int32\n"
     ]
    }
   ],
   "source": [
    "#Create an array with data type 4 bytes integer:\n",
    "\n",
    "arr = np.array([5, 4, 7, 7], dtype='i4')\n",
    "print(arr)\n",
    "print(arr.dtype)"
   ]
  },
  {
   "cell_type": "code",
   "execution_count": 12,
   "id": "0688047e-291e-46d7-b4fc-5d1bb3302ae2",
   "metadata": {},
   "outputs": [
    {
     "name": "stdout",
     "output_type": "stream",
     "text": [
      "[5 6 7]\n",
      "int32\n"
     ]
    }
   ],
   "source": [
    "#Change data type from float to integer by using 'i' as parameter value:\n",
    "\n",
    "arr = np.array([5.1, 6.1, 7.1])\n",
    "newarr = arr.astype('i')\n",
    "print(newarr)\n",
    "print(newarr.dtype)"
   ]
  },
  {
   "cell_type": "code",
   "execution_count": 14,
   "id": "165e14cb-6b24-4ffd-8398-b0907a09cc9e",
   "metadata": {},
   "outputs": [
    {
     "name": "stdout",
     "output_type": "stream",
     "text": [
      "[3 2 4]\n",
      "int32\n"
     ]
    }
   ],
   "source": [
    "#Change data type from float to integer by using int as parameter value:\n",
    "\n",
    "arr = np.array([3.5, 2.6, 4.8])\n",
    "newarr = arr.astype(int)\n",
    "print(newarr)\n",
    "print(newarr.dtype)"
   ]
  },
  {
   "cell_type": "code",
   "execution_count": 16,
   "id": "0701d1b5-6aaa-404e-bb51-1098ea1c6eb9",
   "metadata": {},
   "outputs": [
    {
     "name": "stdout",
     "output_type": "stream",
     "text": [
      "[ True False  True  True False  True]\n",
      "bool\n"
     ]
    }
   ],
   "source": [
    "#Change data type from integer to boolean:\n",
    "\n",
    "arr = np.array([7, 0, 4, 2, 0, 1])\n",
    "newarr = arr.astype(bool)\n",
    "print(newarr)\n",
    "print(newarr.dtype)"
   ]
  },
  {
   "cell_type": "code",
   "execution_count": 18,
   "id": "fb12531d-87f2-4c21-8dfb-3eb6c7143c81",
   "metadata": {},
   "outputs": [
    {
     "name": "stdout",
     "output_type": "stream",
     "text": [
      "[ True  True False  True]\n",
      "bool\n"
     ]
    }
   ],
   "source": [
    "arr = np.array([2, 4, 0, 4])\n",
    "newarr = arr.astype(bool)\n",
    "print(newarr)\n",
    "print(newarr.dtype)"
   ]
  },
  {
   "cell_type": "code",
   "execution_count": 20,
   "id": "4a79bb19-89b2-4d32-af31-8f27dd9a342b",
   "metadata": {},
   "outputs": [
    {
     "name": "stdout",
     "output_type": "stream",
     "text": [
      "[1. 4. 2. 5. 4.]\n"
     ]
    }
   ],
   "source": [
    "#changing into to float\n",
    "arr = np.array([1,4,2,5,4])\n",
    "x = arr.astype('f')\n",
    "print(x)"
   ]
  },
  {
   "cell_type": "code",
   "execution_count": 22,
   "id": "974366be-4b6f-4dfd-97fb-c52164b724ba",
   "metadata": {},
   "outputs": [
    {
     "name": "stdout",
     "output_type": "stream",
     "text": [
      "['0.0' '3.5' '2.0' '3.4' '1.5']\n"
     ]
    }
   ],
   "source": [
    "#changing float to unsigned integer\n",
    "arr = np.array([0., 3.5, 2., 3.4, 1.5])\n",
    "x = arr.astype('U')\n",
    "print(x)"
   ]
  },
  {
   "cell_type": "code",
   "execution_count": 24,
   "id": "2667e68f-fa95-4ae4-9ea4-55301efee4e2",
   "metadata": {},
   "outputs": [
    {
     "name": "stdout",
     "output_type": "stream",
     "text": [
      "['2' '7' '5' '0' '8' '0']\n"
     ]
    }
   ],
   "source": [
    "#changing int to unsigned integer\n",
    "arr = np.array([2, 7, 5, 0, 8, 0])\n",
    "x = arr.astype('U')\n",
    "print(x)"
   ]
  },
  {
   "cell_type": "code",
   "execution_count": 26,
   "id": "0e007f7d-1c8c-46be-afef-111626747f57",
   "metadata": {},
   "outputs": [
    {
     "name": "stdout",
     "output_type": "stream",
     "text": [
      "[b'5' b'2' b'4' b'7' b'5']\n"
     ]
    }
   ],
   "source": [
    "#changing float to complex float\n",
    "arr = np.array([5.9, 2.5, 4.3, 7.9, 5.6])\n",
    "x = arr.astype('c')\n",
    "print(x)"
   ]
  },
  {
   "cell_type": "code",
   "execution_count": 28,
   "id": "071a8c15-6c8d-42b1-80a3-2d9c184f25bc",
   "metadata": {},
   "outputs": [
    {
     "name": "stdout",
     "output_type": "stream",
     "text": [
      "[b'2' b'5' b'7' b'2' b'6' b'4']\n"
     ]
    }
   ],
   "source": [
    "#changing int to complex float\n",
    "arr = np.array([2, 5, 7, 2, 6, 4])\n",
    "x = arr.astype('c')\n",
    "print(x)"
   ]
  },
  {
   "cell_type": "code",
   "execution_count": 30,
   "id": "d0463aa5-a04a-4316-9e0b-1bbf99b1df56",
   "metadata": {},
   "outputs": [
    {
     "name": "stdout",
     "output_type": "stream",
     "text": [
      "[264  10  26  42  92]\n",
      "[25 10 26 42 92]\n"
     ]
    }
   ],
   "source": [
    "#copy method: The copy SHOULD NOT be affected by the changes made to the original array.\n",
    "#Make a copy, change the original array, and display both arrays:\n",
    "\n",
    "arr = np.array([25, 10, 26, 42, 92])\n",
    "x = arr.copy()\n",
    "arr[0] =  264\n",
    "print(arr)\n",
    "print(x)"
   ]
  },
  {
   "cell_type": "code",
   "execution_count": 32,
   "id": "2dcb5358-4d86-439c-aa75-afcaa4ab2c38",
   "metadata": {},
   "outputs": [
    {
     "name": "stdout",
     "output_type": "stream",
     "text": [
      "[ 34  96  75  52 619]\n",
      "[34 96 75 52  7]\n"
     ]
    }
   ],
   "source": [
    "arr = np.array([34, 96, 75, 52, 7])\n",
    "x = arr.copy()\n",
    "arr[4] =  619\n",
    "print(arr)\n",
    "print(x)"
   ]
  },
  {
   "cell_type": "code",
   "execution_count": 34,
   "id": "fd19fc8f-da8b-4c3a-8924-3e8663bf48e5",
   "metadata": {},
   "outputs": [
    {
     "name": "stdout",
     "output_type": "stream",
     "text": [
      "[75  7 52 48 35]\n",
      "[75  7 52 48 35]\n"
     ]
    }
   ],
   "source": [
    "#view method: The view SHOULD be affected by the changes made to the original array.\n",
    "#Make a view, change the original array, and display both arrays:\n",
    "\n",
    "arr = np.array([94, 7, 52, 48, 35])\n",
    "x = arr.view()\n",
    "arr[0] = 75\n",
    "\n",
    "print(arr)\n",
    "print(x)"
   ]
  },
  {
   "cell_type": "code",
   "execution_count": 36,
   "id": "b4a3cb61-afc8-4ec4-b916-76b260e47a61",
   "metadata": {},
   "outputs": [
    {
     "name": "stdout",
     "output_type": "stream",
     "text": [
      "(2, 4)\n"
     ]
    }
   ],
   "source": [
    "#shape : The shape of an array is the number of elements in each dimension.\n",
    "arr = np.array([[5,6,7,8],[1,2,3,4]])\n",
    "print(arr.shape)"
   ]
  },
  {
   "cell_type": "code",
   "execution_count": 38,
   "id": "65e029dd-c45a-4209-8162-343cd90063e0",
   "metadata": {},
   "outputs": [
    {
     "name": "stdout",
     "output_type": "stream",
     "text": [
      "[[1 2 3 4]]\n",
      "shape of array : (1, 4)\n"
     ]
    }
   ],
   "source": [
    "#Create an array with 3 dimensions using ndmin using a 1 dimension array\n",
    "arr = np.array([1, 2, 3, 4], ndmin=2)\n",
    "print(arr)\n",
    "print('shape of array :', arr.shape)"
   ]
  },
  {
   "cell_type": "code",
   "execution_count": null,
   "id": "73189617-4a69-4bc7-8eab-f6cdab97fa9d",
   "metadata": {},
   "outputs": [],
   "source": [
    "#Reshaping arrays:\n",
    "\n",
    "Reshaping means changing the shape of an array.\n",
    "The shape of an array is the number of elements in each dimension.\n",
    "By reshaping we can add or remove dimensions or change number of elements in each dimension."
   ]
  },
  {
   "cell_type": "code",
   "execution_count": 54,
   "id": "e27d89a3-8829-473b-9f6b-d81f2c83eb3c",
   "metadata": {},
   "outputs": [
    {
     "name": "stdout",
     "output_type": "stream",
     "text": [
      "12\n",
      "[ 1  2  3  4  5  6  7  8  9 10 11 12]\n",
      "*************************************************************\n",
      "[[ 1  2  3  4  5  6]\n",
      " [ 7  8  9 10 11 12]]\n"
     ]
    }
   ],
   "source": [
    "#converting the following 1-D array with 12 elements into a 2-D array.\n",
    "import numpy as np\n",
    "arr = np.array([1,2,3,4,5,6,7,8,9,10,11,12])\n",
    "print(arr.size)\n",
    "print(arr)\n",
    "print(\"*************************************************************\")\n",
    "newarr = arr.reshape(2,6)\n",
    "print(newarr)"
   ]
  },
  {
   "cell_type": "code",
   "execution_count": 60,
   "id": "ba8d8989-ab78-402a-97e5-234475320f22",
   "metadata": {},
   "outputs": [
    {
     "name": "stdout",
     "output_type": "stream",
     "text": [
      "[[ 2  6  4  9]\n",
      " [ 2  4  7  7]\n",
      " [ 5  2 11 10]]\n"
     ]
    }
   ],
   "source": [
    "arr = np.array([2, 6, 4, 9, 2, 4, 7, 7, 5, 2, 11, 10])\n",
    "newarr = arr.reshape(3, 4)\n",
    "print(newarr)"
   ]
  },
  {
   "cell_type": "code",
   "execution_count": 64,
   "id": "a15d5704-f23a-49bf-b737-db0a13f31190",
   "metadata": {},
   "outputs": [
    {
     "name": "stdout",
     "output_type": "stream",
     "text": [
      "[[[ 1  2]\n",
      "  [ 3  4]]\n",
      "\n",
      " [[ 5  6]\n",
      "  [ 7  8]]\n",
      "\n",
      " [[ 9 10]\n",
      "  [11 12]]]\n"
     ]
    }
   ],
   "source": [
    "#Convert the following 1-D array with 12 elements into a 3-D array.\n",
    "#The outermost dimension will have 2 arrays that contains 3 arrays, each with 2 elements:\n",
    "\n",
    "arr = np.array([1, 2, 3, 4, 5, 6, 7, 8, 9, 10, 11, 12])\n",
    "newarr = arr.reshape(3, 2, 2)\n",
    "print(newarr)"
   ]
  },
  {
   "cell_type": "code",
   "execution_count": 70,
   "id": "779b5d1e-0c54-4a59-86dc-a2af29d0a1da",
   "metadata": {},
   "outputs": [
    {
     "name": "stdout",
     "output_type": "stream",
     "text": [
      "[ 8  7  3  5  7  2  6  4  7  8  8 15  2  5  4  4  0  2  5  4]\n",
      "*************************************************************\n",
      "[[[ 8]\n",
      "  [ 7]\n",
      "  [ 3]\n",
      "  [ 5]]\n",
      "\n",
      " [[ 7]\n",
      "  [ 2]\n",
      "  [ 6]\n",
      "  [ 4]]\n",
      "\n",
      " [[ 7]\n",
      "  [ 8]\n",
      "  [ 8]\n",
      "  [15]]\n",
      "\n",
      " [[ 2]\n",
      "  [ 5]\n",
      "  [ 4]\n",
      "  [ 4]]\n",
      "\n",
      " [[ 0]\n",
      "  [ 2]\n",
      "  [ 5]\n",
      "  [ 4]]]\n"
     ]
    }
   ],
   "source": [
    "arr = np.array([8, 7, 3, 5, 7, 2, 6, 4, 7, 8, 8, 15, 2, 5, 4, 4, 0, 2, 5, 4])\n",
    "newarr = arr.reshape(5, 4, 1)\n",
    "print(arr)\n",
    "print(\"*************************************************************\")\n",
    "print(newarr)"
   ]
  },
  {
   "cell_type": "code",
   "execution_count": 72,
   "id": "7dda4ce5-e9f6-486a-879e-d0e6a68def02",
   "metadata": {},
   "outputs": [
    {
     "name": "stdout",
     "output_type": "stream",
     "text": [
      "[4 5 2 1 7 9]\n"
     ]
    }
   ],
   "source": [
    "#converting 2 -D array to 1 -D array\n",
    "arr = np.array([[4,5,2],[1,7,9]])\n",
    "x= arr.reshape(arr.size)\n",
    "print(x)"
   ]
  },
  {
   "cell_type": "code",
   "execution_count": 80,
   "id": "897deb25-adb9-497e-bbbe-53b0cc2b0738",
   "metadata": {},
   "outputs": [
    {
     "name": "stdout",
     "output_type": "stream",
     "text": [
      "18\n",
      "[[[8]\n",
      "  [3]]\n",
      "\n",
      " [[2]\n",
      "  [3]]\n",
      "\n",
      " [[5]\n",
      "  [7]]\n",
      "\n",
      " [[2]\n",
      "  [3]]\n",
      "\n",
      " [[8]\n",
      "  [9]]\n",
      "\n",
      " [[1]\n",
      "  [7]]\n",
      "\n",
      " [[2]\n",
      "  [5]]\n",
      "\n",
      " [[4]\n",
      "  [3]]\n",
      "\n",
      " [[3]\n",
      "  [7]]]\n",
      "*************************************************************\n",
      "[[[8 3]\n",
      "  [2 3]\n",
      "  [5 7]]\n",
      "\n",
      " [[2 3]\n",
      "  [8 9]\n",
      "  [1 7]]\n",
      "\n",
      " [[2 5]\n",
      "  [4 3]\n",
      "  [3 7]]]\n",
      "*************************************************************\n",
      "[[[8 3 2]\n",
      "  [3 5 7]]\n",
      "\n",
      " [[2 3 8]\n",
      "  [9 1 7]]\n",
      "\n",
      " [[2 5 4]\n",
      "  [3 3 7]]]\n"
     ]
    }
   ],
   "source": [
    "#converting 2 - D to 3 - D array\n",
    "\n",
    "arr = np.array([[8,3,2,3,5,7],[2,3,8,9,1,7],[2,5,4,3,3,7]])\n",
    "print(arr.size)\n",
    "x= arr.reshape(9,2,1)\n",
    "print(x)\n",
    "print(\"*************************************************************\")\n",
    "y= arr.reshape(3,3,2)\n",
    "print(y)\n",
    "print(\"*************************************************************\")\n",
    "z= arr.reshape(3,2,3)\n",
    "print(z)"
   ]
  },
  {
   "cell_type": "code",
   "execution_count": 82,
   "id": "f6ff41bc-7fe1-4aa1-a470-5a198c471913",
   "metadata": {},
   "outputs": [
    {
     "name": "stdout",
     "output_type": "stream",
     "text": [
      "18\n",
      "[[[3 4 5]\n",
      "  [2 6 4]]\n",
      "\n",
      " [[1 3 6]\n",
      "  [5 6 8]]\n",
      "\n",
      " [[8 6 4]\n",
      "  [5 7 0]]]\n",
      "*************************************************************\n",
      "[3 4 5 2 6 4 1 3 6 5 6 8 8 6 4 5 7 0]\n"
     ]
    }
   ],
   "source": [
    "#converting 3-D array to 1-D array\n",
    "arr = np.array([[[3,4,5],[2,6,4]],\n",
    "                [[1,3,6],[5,6,8]],\n",
    "                [[8,6,4],[5,7,0]]])\n",
    "print(arr.size)\n",
    "print(arr)\n",
    "print(\"*************************************************************\")\n",
    "x= arr.reshape(arr.size)\n",
    "print(x)"
   ]
  },
  {
   "cell_type": "code",
   "execution_count": 86,
   "id": "d6f63333-73c0-4380-b216-4fd5c81808df",
   "metadata": {},
   "outputs": [
    {
     "name": "stdout",
     "output_type": "stream",
     "text": [
      "18\n",
      "[[[3 4 5]\n",
      "  [2 6 4]]\n",
      "\n",
      " [[1 3 6]\n",
      "  [5 6 8]]\n",
      "\n",
      " [[8 6 4]\n",
      "  [5 7 0]]]\n",
      "*************************************************************\n",
      "[[3 4]\n",
      " [5 2]\n",
      " [6 4]\n",
      " [1 3]\n",
      " [6 5]\n",
      " [6 8]\n",
      " [8 6]\n",
      " [4 5]\n",
      " [7 0]]\n"
     ]
    }
   ],
   "source": [
    "#converting 3-D array to 2-D array\n",
    "arr = np.array([[[3,4,5],[2,6,4]],\n",
    "                [[1,3,6],[5,6,8]],\n",
    "                [[8,6,4],[5,7,0]]])\n",
    "print(arr.size)\n",
    "print(arr)\n",
    "print(\"*************************************************************\")\n",
    "x= arr.reshape(9,2)\n",
    "print(x)"
   ]
  },
  {
   "cell_type": "code",
   "execution_count": 88,
   "id": "7953c1b2-7c2d-4c13-99af-4b489d09a590",
   "metadata": {},
   "outputs": [
    {
     "name": "stdout",
     "output_type": "stream",
     "text": [
      "[[5. 6.]\n",
      " [7. 8.]]\n",
      "****************\n",
      "[[1. 2.]\n",
      " [3. 4.]]\n"
     ]
    }
   ],
   "source": [
    "#python program to create a datatype object\n",
    "\n",
    "x= np.array([[5,6],[7,8]], dtype =np.float64)\n",
    "print(x)\n",
    "print(\"****************\")\n",
    "y = np.array([[1,2],[3,4]], dtype = np.float64)\n",
    "print(y)"
   ]
  },
  {
   "cell_type": "code",
   "execution_count": null,
   "id": "c7ab669a-5bcf-48e2-a04b-1f66aedd9d04",
   "metadata": {},
   "outputs": [],
   "source": [
    "#sorting arrays\n",
    "Sorting means putting elements in an ordered sequence.\n",
    "\n",
    "Ordered sequence is any sequence that has an order corresponding to elements, like numeric or alphabetical, ascending or descending.\n",
    "\n",
    "The NumPy ndarray object has a function called sort(), that will sort a specified array."
   ]
  },
  {
   "cell_type": "code",
   "execution_count": 90,
   "id": "2705d354-1797-4737-b671-93e9e0ab8f53",
   "metadata": {},
   "outputs": [
    {
     "name": "stdout",
     "output_type": "stream",
     "text": [
      "[5 6 8 9]\n"
     ]
    }
   ],
   "source": [
    "arr = np.array([5, 6, 9, 8])\n",
    "print(np.sort(arr))"
   ]
  },
  {
   "cell_type": "code",
   "execution_count": 92,
   "id": "7c3556ae-537f-46d9-8524-5732d34fc07b",
   "metadata": {},
   "outputs": [
    {
     "name": "stdout",
     "output_type": "stream",
     "text": [
      "[[[2 4 6]\n",
      "  [7 8 9]]\n",
      "\n",
      " [[1 2 3]\n",
      "  [3 4 6]]\n",
      "\n",
      " [[4 5 6]\n",
      "  [0 2 4]]]\n"
     ]
    }
   ],
   "source": [
    "arr = np.array([[[2,6,4],[7,8,9]],\n",
    "                [[1,2,3],[4,3,6]],\n",
    "                [[6,5,4],[4,2,0]]])\n",
    "print(np.sort(arr))"
   ]
  },
  {
   "cell_type": "code",
   "execution_count": null,
   "id": "439a9d01-0b76-4908-9705-40bac1807a3c",
   "metadata": {},
   "outputs": [],
   "source": [
    "#SLicing arrays:\n",
    "Slicing in python means taking elements from one given index to another given index.\n",
    "\n",
    "We pass slice instead of index like this: [start:end].\n",
    "\n",
    "We can also define the step, like this: [start:end:step].\n",
    "\n",
    "If we don't pass start its considered 0\n",
    "\n",
    "If we don't pass end its considered length of array in that dimension\n",
    "\n",
    "If we don't pass step its considered 1"
   ]
  },
  {
   "cell_type": "code",
   "execution_count": 94,
   "id": "a88e3d19-2c6b-4099-84f5-8c08836f577f",
   "metadata": {},
   "outputs": [
    {
     "name": "stdout",
     "output_type": "stream",
     "text": [
      "[2 3 4]\n"
     ]
    }
   ],
   "source": [
    "arr = np.array([1, 2, 3, 4, 5, 6, 7])\n",
    "print(arr[1:4])"
   ]
  },
  {
   "cell_type": "code",
   "execution_count": 96,
   "id": "8e6ecb86-96c5-4bb1-9a12-e3c3439e12c3",
   "metadata": {},
   "outputs": [
    {
     "name": "stdout",
     "output_type": "stream",
     "text": [
      "[4 5 4 7 3]\n"
     ]
    }
   ],
   "source": [
    "arr = np.array([2, 6, 4, 5, 4, 7, 3, 18, 1, 45, 17, 33])\n",
    "print(arr[2:7])"
   ]
  },
  {
   "cell_type": "code",
   "execution_count": 98,
   "id": "1ee6de87-1137-42b4-abdc-17a3a0d0d6c5",
   "metadata": {},
   "outputs": [
    {
     "name": "stdout",
     "output_type": "stream",
     "text": [
      "[3 4 5 6 7]\n"
     ]
    }
   ],
   "source": [
    "#Slice elements from index 4 to the end of the array:\n",
    "\n",
    "arr = np.array([1, 2, 3, 4, 5, 6, 7])\n",
    "print(arr[2:])"
   ]
  },
  {
   "cell_type": "code",
   "execution_count": 100,
   "id": "6cce6fa2-aea9-41cd-b8dc-14188d603c2c",
   "metadata": {},
   "outputs": [
    {
     "name": "stdout",
     "output_type": "stream",
     "text": [
      "[]\n"
     ]
    }
   ],
   "source": [
    "arr = np.array([264, 45, 333, 18, 7, 3, 17, 1, 17, 19, 26, 62])\n",
    "print(arr[264:])"
   ]
  },
  {
   "cell_type": "code",
   "execution_count": 102,
   "id": "7ec2d147-781d-4976-af68-af43fe4e71b4",
   "metadata": {},
   "outputs": [
    {
     "name": "stdout",
     "output_type": "stream",
     "text": [
      "[1 2 3 4]\n"
     ]
    }
   ],
   "source": [
    "#Slice elements from the beginning to index 4 (not included):\n",
    "\n",
    "arr = np.array([1, 2, 3, 4, 5, 6, 7])\n",
    "print(arr[:4])"
   ]
  },
  {
   "cell_type": "code",
   "execution_count": 104,
   "id": "dfa212b6-4267-44ce-aba6-f461c6357855",
   "metadata": {},
   "outputs": [
    {
     "name": "stdout",
     "output_type": "stream",
     "text": [
      "[5 3 2 5 7 2 1]\n"
     ]
    }
   ],
   "source": [
    "arr = np.array([5, 3, 2, 5, 7, 2, 1, 1, 45, 59, 18, 17])\n",
    "print(arr[:7])"
   ]
  },
  {
   "cell_type": "code",
   "execution_count": 106,
   "id": "296be175-ce68-4f0b-8919-189e5594b345",
   "metadata": {},
   "outputs": [
    {
     "name": "stdout",
     "output_type": "stream",
     "text": [
      "[ 2  2  6  7 15 45]\n"
     ]
    }
   ],
   "source": [
    "#Negative Slicing : Use the minus operator to refer to an index from the end\n",
    "\n",
    "#Slice from the index 3 from the end to index 1 from the end:\n",
    "\n",
    "arr = np.array([4, 2, 5, 1, 9, 2, 2, 6, 7, 15, 45, 63])\n",
    "print(arr[-7:-1])"
   ]
  },
  {
   "cell_type": "code",
   "execution_count": 108,
   "id": "3a0e168f-97e1-45b9-9634-c38d0250fe83",
   "metadata": {},
   "outputs": [
    {
     "name": "stdout",
     "output_type": "stream",
     "text": [
      "[ 1  5  7  6 18 32]\n"
     ]
    }
   ],
   "source": [
    "#step : Use the step value to determine the step of the slicing\n",
    "#Return every other element from index 1 to index 5:\n",
    "\n",
    "arr = np.array([5, 1, 4, 5, 5, 7, 2, 6, 45, 18, 63, 32])\n",
    "print(arr[1:45:2])"
   ]
  },
  {
   "cell_type": "code",
   "execution_count": 110,
   "id": "8596ad67-6b68-4921-b365-adbedcadf7a1",
   "metadata": {},
   "outputs": [
    {
     "name": "stdout",
     "output_type": "stream",
     "text": [
      "[1 8]\n"
     ]
    }
   ],
   "source": [
    "#Return every other element from the entire array:\n",
    "\n",
    "\n",
    "arr = np.array([1,2,3,4,5,6,7,8,9,0])\n",
    "print(arr[::7])"
   ]
  },
  {
   "cell_type": "code",
   "execution_count": 114,
   "id": "25d9af9d-1a81-4bf4-bcb7-fea8e9ac3522",
   "metadata": {},
   "outputs": [
    {
     "name": "stdout",
     "output_type": "stream",
     "text": [
      "[7]\n"
     ]
    }
   ],
   "source": [
    "#Slicing 2-D Arrays:\n",
    "\n",
    "#From the second element, slice elements from index 1 to index 4 (not included):\n",
    "\n",
    "arr = np.array([[1, 2, 3, 4, 5], [6, 7, 8, 9, 10]])\n",
    "print(arr[1, 1:2])"
   ]
  },
  {
   "cell_type": "code",
   "execution_count": 116,
   "id": "112bf396-44d1-431e-83bf-7527fab45247",
   "metadata": {},
   "outputs": [
    {
     "name": "stdout",
     "output_type": "stream",
     "text": [
      "[[5 6]\n",
      " [5 9]]\n",
      "*******************\n",
      "[[2 6 5 6 7 2]\n",
      " [4 8 5 9 3 5]\n",
      " [1 2 5 6 7 1]]\n"
     ]
    }
   ],
   "source": [
    "arr = np.array([[2,6,5,6,7,2],[4,8,5,9,3,5],[1,2,5,6,7,1]])\n",
    "print(arr[0:2, 2:4])\n",
    "print(\"*******************\")\n",
    "print(arr[:,:])"
   ]
  },
  {
   "cell_type": "code",
   "execution_count": 122,
   "id": "98acaebb-8e62-4d5c-b578-05800696395f",
   "metadata": {},
   "outputs": [
    {
     "name": "stdout",
     "output_type": "stream",
     "text": [
      "[6 2 3]\n",
      "[3 9 9]\n"
     ]
    }
   ],
   "source": [
    "arr = np.array([[2,6,4,7,6,3],[2,6,4,5,2,9],[2,1,5,4,3,9]])\n",
    "print(arr[0:5,4])\n",
    "print(arr[0:4,5])"
   ]
  },
  {
   "cell_type": "code",
   "execution_count": null,
   "id": "08da085e-5ddf-4d64-ba21-bea2f1588063",
   "metadata": {},
   "outputs": [],
   "source": [
    "t = np.array([[1,2,3,4],[5,6,7,8],[9,1,2,4]])\n",
    "print(t[0:4,7])"
   ]
  },
  {
   "cell_type": "code",
   "execution_count": 124,
   "id": "4fa62544-5bd8-46c8-8e0b-45ad7612c524",
   "metadata": {},
   "outputs": [
    {
     "name": "stdout",
     "output_type": "stream",
     "text": [
      "[[4 5 6]\n",
      " [1 2 3]]\n",
      "**************\n",
      "[[[1 2 3 4 5 6]\n",
      "  [7 8 9 1 2 3]]\n",
      "\n",
      " [[2 8 5 7 5 6]\n",
      "  [3 7 8 1 5 9]]\n",
      "\n",
      " [[6 1 9 7 8 9]\n",
      "  [5 6 2 8 5 4]]]\n"
     ]
    }
   ],
   "source": [
    "#slicing 3D arrays:\n",
    "arr = np.array([[[1,2,3,4,5,6],[7,8,9,1,2,3]],\n",
    "                [[2,8,5,7,5,6],[3,7,8,1,5,9]],\n",
    "                [[6,1,9,7,8,9],[5,6,2,8,5,4]]])\n",
    "print(arr[0,0:2,3:9])\n",
    "print(\"**************\")\n",
    "print(arr[:,:,:])"
   ]
  },
  {
   "cell_type": "code",
   "execution_count": null,
   "id": "c06bb0b1-87f7-49dd-9b46-c966d8a2c578",
   "metadata": {},
   "outputs": [],
   "source": []
  }
 ],
 "metadata": {
  "kernelspec": {
   "display_name": "Python 3 (ipykernel)",
   "language": "python",
   "name": "python3"
  },
  "language_info": {
   "codemirror_mode": {
    "name": "ipython",
    "version": 3
   },
   "file_extension": ".py",
   "mimetype": "text/x-python",
   "name": "python",
   "nbconvert_exporter": "python",
   "pygments_lexer": "ipython3",
   "version": "3.12.4"
  }
 },
 "nbformat": 4,
 "nbformat_minor": 5
}
